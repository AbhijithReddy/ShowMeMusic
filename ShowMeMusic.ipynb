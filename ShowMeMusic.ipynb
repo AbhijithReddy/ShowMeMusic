{
  "cells": [
    {
      "cell_type": "markdown",
      "id": "0076da49",
      "metadata": {
        "id": "0076da49"
      },
      "source": [
        "# Show Me Music"
      ]
    },
    {
      "cell_type": "code",
      "execution_count": 1,
      "id": "417cee03",
      "metadata": {
        "colab": {
          "base_uri": "https://localhost:8080/"
        },
        "id": "417cee03",
        "outputId": "0f7bd150-95ec-4489-91b5-14ac7796c645"
      },
      "outputs": [
        {
          "output_type": "stream",
          "name": "stdout",
          "text": [
            "Looking in indexes: https://pypi.org/simple, https://us-python.pkg.dev/colab-wheels/public/simple/\n",
            "Collecting spotipy\n",
            "  Downloading spotipy-2.22.0-py3-none-any.whl (28 kB)\n",
            "Collecting urllib3>=1.26.0\n",
            "  Downloading urllib3-1.26.13-py2.py3-none-any.whl (140 kB)\n",
            "\u001b[K     |████████████████████████████████| 140 kB 9.2 MB/s \n",
            "\u001b[?25hRequirement already satisfied: six>=1.15.0 in /usr/local/lib/python3.8/dist-packages (from spotipy) (1.15.0)\n",
            "Collecting requests>=2.25.0\n",
            "  Downloading requests-2.28.1-py3-none-any.whl (62 kB)\n",
            "\u001b[K     |████████████████████████████████| 62 kB 296 kB/s \n",
            "\u001b[?25hCollecting redis>=3.5.3\n",
            "  Downloading redis-4.4.0-py3-none-any.whl (236 kB)\n",
            "\u001b[K     |████████████████████████████████| 236 kB 40.2 MB/s \n",
            "\u001b[?25hRequirement already satisfied: async-timeout>=4.0.2 in /usr/local/lib/python3.8/dist-packages (from redis>=3.5.3->spotipy) (4.0.2)\n",
            "Requirement already satisfied: certifi>=2017.4.17 in /usr/local/lib/python3.8/dist-packages (from requests>=2.25.0->spotipy) (2022.9.24)\n",
            "Requirement already satisfied: charset-normalizer<3,>=2 in /usr/local/lib/python3.8/dist-packages (from requests>=2.25.0->spotipy) (2.1.1)\n",
            "Requirement already satisfied: idna<4,>=2.5 in /usr/local/lib/python3.8/dist-packages (from requests>=2.25.0->spotipy) (2.10)\n",
            "Installing collected packages: urllib3, requests, redis, spotipy\n",
            "  Attempting uninstall: urllib3\n",
            "    Found existing installation: urllib3 1.24.3\n",
            "    Uninstalling urllib3-1.24.3:\n",
            "      Successfully uninstalled urllib3-1.24.3\n",
            "  Attempting uninstall: requests\n",
            "    Found existing installation: requests 2.23.0\n",
            "    Uninstalling requests-2.23.0:\n",
            "      Successfully uninstalled requests-2.23.0\n",
            "Successfully installed redis-4.4.0 requests-2.28.1 spotipy-2.22.0 urllib3-1.26.13\n",
            "Looking in indexes: https://mirrors.ustc.edu.cn/pypi/web/simple, https://us-python.pkg.dev/colab-wheels/public/simple/\n",
            "Collecting umap-learn\n",
            "  Downloading https://mirrors.bfsu.edu.cn/pypi/web/packages/e1/eb/dca6cfd872e8542fb57dd56ff2d5d67baed270aee6db739c6414d8d5b3b5/umap-learn-0.5.3.tar.gz (88 kB)\n",
            "\u001b[K     |████████████████████████████████| 88 kB 137 kB/s \n",
            "\u001b[?25hRequirement already satisfied: numpy>=1.17 in /usr/local/lib/python3.8/dist-packages (from umap-learn) (1.21.6)\n",
            "Requirement already satisfied: scikit-learn>=0.22 in /usr/local/lib/python3.8/dist-packages (from umap-learn) (1.0.2)\n",
            "Requirement already satisfied: scipy>=1.0 in /usr/local/lib/python3.8/dist-packages (from umap-learn) (1.7.3)\n",
            "Requirement already satisfied: numba>=0.49 in /usr/local/lib/python3.8/dist-packages (from umap-learn) (0.56.4)\n",
            "Collecting pynndescent>=0.5\n",
            "  Downloading https://mirrors.bfsu.edu.cn/pypi/web/packages/de/47/3b0b9e3c6201cd05b95697538085a33175974950c491a1c096970ea01962/pynndescent-0.5.8.tar.gz (1.1 MB)\n",
            "\u001b[K     |████████████████████████████████| 1.1 MB 433 kB/s \n",
            "\u001b[?25hRequirement already satisfied: tqdm in /usr/local/lib/python3.8/dist-packages (from umap-learn) (4.64.1)\n",
            "Requirement already satisfied: llvmlite<0.40,>=0.39.0dev0 in /usr/local/lib/python3.8/dist-packages (from numba>=0.49->umap-learn) (0.39.1)\n",
            "Requirement already satisfied: importlib-metadata in /usr/local/lib/python3.8/dist-packages (from numba>=0.49->umap-learn) (4.13.0)\n",
            "Requirement already satisfied: setuptools in /usr/local/lib/python3.8/dist-packages (from numba>=0.49->umap-learn) (57.4.0)\n",
            "Requirement already satisfied: joblib>=0.11 in /usr/local/lib/python3.8/dist-packages (from pynndescent>=0.5->umap-learn) (1.2.0)\n",
            "Requirement already satisfied: threadpoolctl>=2.0.0 in /usr/local/lib/python3.8/dist-packages (from scikit-learn>=0.22->umap-learn) (3.1.0)\n",
            "Requirement already satisfied: zipp>=0.5 in /usr/local/lib/python3.8/dist-packages (from importlib-metadata->numba>=0.49->umap-learn) (3.11.0)\n",
            "Building wheels for collected packages: umap-learn, pynndescent\n",
            "  Building wheel for umap-learn (setup.py) ... \u001b[?25l\u001b[?25hdone\n",
            "  Created wheel for umap-learn: filename=umap_learn-0.5.3-py3-none-any.whl size=82829 sha256=8623e8d90bdf0da900a749e66f85f70acf37d52fddcf81c48413c4e8df7ae551\n",
            "  Stored in directory: /root/.cache/pip/wheels/45/55/42/621ba8343cf00840dace7fe3a1fac83549a7ea63a241166535\n",
            "  Building wheel for pynndescent (setup.py) ... \u001b[?25l\u001b[?25hdone\n",
            "  Created wheel for pynndescent: filename=pynndescent-0.5.8-py3-none-any.whl size=55513 sha256=5b51132bea5f32e4e89760be6b55c14b73057d0f58d2201b147c5c4fe86f3ca2\n",
            "  Stored in directory: /root/.cache/pip/wheels/08/41/47/7eb536ecdfe11964b96f411431f23e9eca3a4109f025b354b5\n",
            "Successfully built umap-learn pynndescent\n",
            "Installing collected packages: pynndescent, umap-learn\n",
            "Successfully installed pynndescent-0.5.8 umap-learn-0.5.3\n",
            "Looking in indexes: https://pypi.org/simple, https://us-python.pkg.dev/colab-wheels/public/simple/\n",
            "Collecting kneed\n",
            "  Downloading kneed-0.8.1-py2.py3-none-any.whl (10 kB)\n",
            "Requirement already satisfied: scipy>=1.0.0 in /usr/local/lib/python3.8/dist-packages (from kneed) (1.7.3)\n",
            "Requirement already satisfied: numpy>=1.14.2 in /usr/local/lib/python3.8/dist-packages (from kneed) (1.21.6)\n",
            "Installing collected packages: kneed\n",
            "Successfully installed kneed-0.8.1\n"
          ]
        }
      ],
      "source": [
        "!pip install spotipy # Install if spotipy doesn't exist\n",
        "!pip install umap-learn -i https://mirrors.ustc.edu.cn/pypi/web/simple # Install if umap doesn't exist\n",
        "!pip install kneed"
      ]
    },
    {
      "cell_type": "markdown",
      "source": [
        "# Set Up Your Spotify Account\n",
        "## In order to run this notebook you need the **client_id** and **client_secret** for your application.\n",
        "To use the Spotfiy API, start by creating a Spotify user account (Premium or Free). To do that, simply sign up at www.spotify.com.\n",
        "\n",
        "When you have a user account, go to the Dashboard page at the Spotify Developer website and, if necessary, log in. Accept the latest Developer Terms of Service to complete your account set up.\n",
        "\n",
        "# Register Your Application\n",
        "You need to create and register a new application to generate valid credentials. You’ll need these credentials later to perform API calls. You can follow the App settings guide at https://developer.spotify.com/documentation/general/guides/authorization/app-settings to learn how to generate them."
      ],
      "metadata": {
        "id": "sFzUHxukSnx5"
      },
      "id": "sFzUHxukSnx5"
    },
    {
      "cell_type": "code",
      "execution_count": null,
      "id": "bb882bdc",
      "metadata": {
        "cellView": "form",
        "id": "bb882bdc"
      },
      "outputs": [],
      "source": [
        "#@title Enter Spotify Credentials\n",
        "import matplotlib.pyplot as plt\n",
        "import numpy as np\n",
        "import pandas as pd\n",
        "import pprint\n",
        "import seaborn as sns\n",
        "import spotipy\n",
        "import sys\n",
        "import umap\n",
        "client_id = \"\" #@param {type:\"string\"}\n",
        "client_secret = \"\" #@param {type:\"string\"}\n",
        "from spotipy.oauth2 import SpotifyClientCredentials\n",
        "\n",
        "sp = spotipy.Spotify(auth_manager=SpotifyClientCredentials(client_id=client_id,\n",
        "                                                           client_secret=client_secret)) # Get spotify app credentials"
      ]
    },
    {
      "cell_type": "markdown",
      "id": "545dd4ab",
      "metadata": {
        "id": "545dd4ab"
      },
      "source": [
        "## Get Track Features"
      ]
    },
    {
      "cell_type": "code",
      "execution_count": null,
      "id": "88238851",
      "metadata": {
        "colab": {
          "base_uri": "https://localhost:8080/"
        },
        "cellView": "form",
        "id": "88238851",
        "outputId": "8c5cf80e-f3ed-4354-a665-92d02cbbf815"
      },
      "outputs": [
        {
          "output_type": "stream",
          "name": "stdout",
          "text": [
            "Diamonds - spotify:track:5hvwx5i67IwnCkjl9VHkNv\n"
          ]
        }
      ],
      "source": [
        "#@title Enter Track \"\\<track_name> \\<artist_name>\" ex: Diamonds Sam Smith\n",
        "track = \"Diamonds Sam Smith\" #@param {type:\"string\"} \n",
        "# Enter in quotes \"<track_name> <artist_name>\" ex: Diamonds Sam Smith\n",
        "result = sp.search(q = track, limit=1)['tracks']['items'][0]\n",
        "track_name = result['name']\n",
        "tid = result['uri']\n",
        "print(track_name, \"-\", tid) # Verify track_id from spotify web app url if not sure"
      ]
    },
    {
      "cell_type": "code",
      "execution_count": null,
      "id": "58687fc8",
      "metadata": {
        "colab": {
          "base_uri": "https://localhost:8080/",
          "height": 80
        },
        "id": "58687fc8",
        "outputId": "cb2efbec-aabe-474b-d41b-7128fc747a8f"
      },
      "outputs": [
        {
          "output_type": "execute_result",
          "data": {
            "text/plain": [
              "   acousticness  danceability  energy  loudness    tempo  valence\n",
              "1         0.154         0.653   0.667    -6.764  104.181    0.556"
            ],
            "text/html": [
              "\n",
              "  <div id=\"df-5dc9ae8f-f6fa-44a9-aab3-4e1f1e4179a3\">\n",
              "    <div class=\"colab-df-container\">\n",
              "      <div>\n",
              "<style scoped>\n",
              "    .dataframe tbody tr th:only-of-type {\n",
              "        vertical-align: middle;\n",
              "    }\n",
              "\n",
              "    .dataframe tbody tr th {\n",
              "        vertical-align: top;\n",
              "    }\n",
              "\n",
              "    .dataframe thead th {\n",
              "        text-align: right;\n",
              "    }\n",
              "</style>\n",
              "<table border=\"1\" class=\"dataframe\">\n",
              "  <thead>\n",
              "    <tr style=\"text-align: right;\">\n",
              "      <th></th>\n",
              "      <th>acousticness</th>\n",
              "      <th>danceability</th>\n",
              "      <th>energy</th>\n",
              "      <th>loudness</th>\n",
              "      <th>tempo</th>\n",
              "      <th>valence</th>\n",
              "    </tr>\n",
              "  </thead>\n",
              "  <tbody>\n",
              "    <tr>\n",
              "      <th>1</th>\n",
              "      <td>0.154</td>\n",
              "      <td>0.653</td>\n",
              "      <td>0.667</td>\n",
              "      <td>-6.764</td>\n",
              "      <td>104.181</td>\n",
              "      <td>0.556</td>\n",
              "    </tr>\n",
              "  </tbody>\n",
              "</table>\n",
              "</div>\n",
              "      <button class=\"colab-df-convert\" onclick=\"convertToInteractive('df-5dc9ae8f-f6fa-44a9-aab3-4e1f1e4179a3')\"\n",
              "              title=\"Convert this dataframe to an interactive table.\"\n",
              "              style=\"display:none;\">\n",
              "        \n",
              "  <svg xmlns=\"http://www.w3.org/2000/svg\" height=\"24px\"viewBox=\"0 0 24 24\"\n",
              "       width=\"24px\">\n",
              "    <path d=\"M0 0h24v24H0V0z\" fill=\"none\"/>\n",
              "    <path d=\"M18.56 5.44l.94 2.06.94-2.06 2.06-.94-2.06-.94-.94-2.06-.94 2.06-2.06.94zm-11 1L8.5 8.5l.94-2.06 2.06-.94-2.06-.94L8.5 2.5l-.94 2.06-2.06.94zm10 10l.94 2.06.94-2.06 2.06-.94-2.06-.94-.94-2.06-.94 2.06-2.06.94z\"/><path d=\"M17.41 7.96l-1.37-1.37c-.4-.4-.92-.59-1.43-.59-.52 0-1.04.2-1.43.59L10.3 9.45l-7.72 7.72c-.78.78-.78 2.05 0 2.83L4 21.41c.39.39.9.59 1.41.59.51 0 1.02-.2 1.41-.59l7.78-7.78 2.81-2.81c.8-.78.8-2.07 0-2.86zM5.41 20L4 18.59l7.72-7.72 1.47 1.35L5.41 20z\"/>\n",
              "  </svg>\n",
              "      </button>\n",
              "      \n",
              "  <style>\n",
              "    .colab-df-container {\n",
              "      display:flex;\n",
              "      flex-wrap:wrap;\n",
              "      gap: 12px;\n",
              "    }\n",
              "\n",
              "    .colab-df-convert {\n",
              "      background-color: #E8F0FE;\n",
              "      border: none;\n",
              "      border-radius: 50%;\n",
              "      cursor: pointer;\n",
              "      display: none;\n",
              "      fill: #1967D2;\n",
              "      height: 32px;\n",
              "      padding: 0 0 0 0;\n",
              "      width: 32px;\n",
              "    }\n",
              "\n",
              "    .colab-df-convert:hover {\n",
              "      background-color: #E2EBFA;\n",
              "      box-shadow: 0px 1px 2px rgba(60, 64, 67, 0.3), 0px 1px 3px 1px rgba(60, 64, 67, 0.15);\n",
              "      fill: #174EA6;\n",
              "    }\n",
              "\n",
              "    [theme=dark] .colab-df-convert {\n",
              "      background-color: #3B4455;\n",
              "      fill: #D2E3FC;\n",
              "    }\n",
              "\n",
              "    [theme=dark] .colab-df-convert:hover {\n",
              "      background-color: #434B5C;\n",
              "      box-shadow: 0px 1px 3px 1px rgba(0, 0, 0, 0.15);\n",
              "      filter: drop-shadow(0px 1px 2px rgba(0, 0, 0, 0.3));\n",
              "      fill: #FFFFFF;\n",
              "    }\n",
              "  </style>\n",
              "\n",
              "      <script>\n",
              "        const buttonEl =\n",
              "          document.querySelector('#df-5dc9ae8f-f6fa-44a9-aab3-4e1f1e4179a3 button.colab-df-convert');\n",
              "        buttonEl.style.display =\n",
              "          google.colab.kernel.accessAllowed ? 'block' : 'none';\n",
              "\n",
              "        async function convertToInteractive(key) {\n",
              "          const element = document.querySelector('#df-5dc9ae8f-f6fa-44a9-aab3-4e1f1e4179a3');\n",
              "          const dataTable =\n",
              "            await google.colab.kernel.invokeFunction('convertToInteractive',\n",
              "                                                     [key], {});\n",
              "          if (!dataTable) return;\n",
              "\n",
              "          const docLinkHtml = 'Like what you see? Visit the ' +\n",
              "            '<a target=\"_blank\" href=https://colab.research.google.com/notebooks/data_table.ipynb>data table notebook</a>'\n",
              "            + ' to learn more about interactive tables.';\n",
              "          element.innerHTML = '';\n",
              "          dataTable['output_type'] = 'display_data';\n",
              "          await google.colab.output.renderOutput(dataTable, element);\n",
              "          const docLink = document.createElement('div');\n",
              "          docLink.innerHTML = docLinkHtml;\n",
              "          element.appendChild(docLink);\n",
              "        }\n",
              "      </script>\n",
              "    </div>\n",
              "  </div>\n",
              "  "
            ]
          },
          "metadata": {},
          "execution_count": 4
        }
      ],
      "source": [
        "track_features = sp.audio_features(tid)\n",
        "track_features_df = pd.DataFrame({'acousticness': track_features[0]['acousticness'], 'danceability': track_features[0]['danceability'], 'energy': track_features[0]['energy'], 'loudness': track_features[0]['loudness'], 'tempo': track_features[0]['tempo'], 'valence': track_features[0]['valence']}, index = [1])\n",
        "track_features_df"
      ]
    },
    {
      "cell_type": "markdown",
      "source": [
        "# Get Playlist id of your favourite playlist\n",
        "Ex:1R5gC67hzygasAOx2O9Ojx (from https://open.spotify.com/playlist/1R5gC67hzygasAOx2O9Ojx)"
      ],
      "metadata": {
        "id": "SbgLn5ZHUAG4"
      },
      "id": "SbgLn5ZHUAG4"
    },
    {
      "cell_type": "code",
      "execution_count": null,
      "id": "a2cdf506",
      "metadata": {
        "cellView": "form",
        "id": "a2cdf506"
      },
      "outputs": [],
      "source": [
        "#@title Enter Spotify Playlist Id from url\n",
        "playlist_id = \"1R5gC67hzygasAOx2O9Ojx\" #@param {type:\"string\"}\n",
        "pl_id = 'spotify:playlist:'+playlist_id # Get playlist id from spotify url\n",
        "offset = 0\n",
        "response = sp.playlist_items(pl_id,\n",
        "                                 offset=offset,\n",
        "                                 fields='items.track.id,total',\n",
        "                                 additional_types=['track'])\n",
        "tids = []\n",
        "for item in response['items']:\n",
        "    tids.append(item['track']['id'])\n",
        "\n",
        "acousticness = []\n",
        "danceability = []\n",
        "energy = []\n",
        "loudness = []\n",
        "tempo = []\n",
        "valence = []\n",
        "pl_track_features = sp.audio_features(tids)\n",
        "for track in pl_track_features:\n",
        "    acousticness.append(track['acousticness'])\n",
        "    danceability.append(track['danceability'])\n",
        "    energy.append(track['energy'])\n",
        "    loudness.append(track['loudness'])\n",
        "    tempo.append(track['tempo'])\n",
        "    valence.append(track['valence'])\n",
        "\n",
        "features_df = pd.DataFrame({'acousticness': acousticness, 'danceability': danceability, 'energy': energy, 'loudness': loudness, 'tempo': tempo, 'valence': valence}) #'tid': tids,\n",
        "\n",
        "loudness_max = 0\n",
        "loudness_min = -60\n",
        "features_df['loudness'] = (features_df['loudness'] - loudness_min) / (loudness_max - loudness_min)\n",
        "# tempo_max = 180\n",
        "tempo_max = features_df['tempo'].max()\n",
        "# temp_min = 0\n",
        "tempo_min = features_df['tempo'].min()\n",
        "features_df['tempo'] = (features_df['tempo'] - tempo_min) / (tempo_max - tempo_min)\n"
      ]
    },
    {
      "cell_type": "code",
      "execution_count": null,
      "id": "4a4c3e9d",
      "metadata": {
        "colab": {
          "base_uri": "https://localhost:8080/",
          "height": 436
        },
        "id": "4a4c3e9d",
        "outputId": "21fbbe87-1496-4c29-9e1b-3bcece22d1ab"
      },
      "outputs": [
        {
          "output_type": "stream",
          "name": "stdout",
          "text": [
            "(98, 6)\n"
          ]
        },
        {
          "output_type": "execute_result",
          "data": {
            "text/plain": [
              "    acousticness  danceability  energy  loudness     tempo  valence\n",
              "0        0.42500         0.748   0.679  0.931717  0.872552    0.782\n",
              "1        0.20000         0.907   0.610  0.922417  0.230480    0.686\n",
              "2        0.25900         0.608   0.757  0.884250  0.471626    0.625\n",
              "3        0.20000         0.439   0.672  0.942083  0.838910    0.498\n",
              "4        0.62500         0.540   0.909  0.897233  0.477007    0.189\n",
              "..           ...           ...     ...       ...       ...      ...\n",
              "93       0.34200         0.751   0.669  0.891133  0.430956    0.359\n",
              "94       0.20700         0.742   0.404  0.947783  0.584055    0.789\n",
              "95       0.00431         0.773   0.625  0.925783  0.519211    0.673\n",
              "96       0.13000         0.725   0.543  0.859700  0.197897    0.307\n",
              "97       0.12000         0.817   0.800  0.925417  0.198066    0.534\n",
              "\n",
              "[98 rows x 6 columns]"
            ],
            "text/html": [
              "\n",
              "  <div id=\"df-841b795a-39bf-45fc-a343-b01d499f4187\">\n",
              "    <div class=\"colab-df-container\">\n",
              "      <div>\n",
              "<style scoped>\n",
              "    .dataframe tbody tr th:only-of-type {\n",
              "        vertical-align: middle;\n",
              "    }\n",
              "\n",
              "    .dataframe tbody tr th {\n",
              "        vertical-align: top;\n",
              "    }\n",
              "\n",
              "    .dataframe thead th {\n",
              "        text-align: right;\n",
              "    }\n",
              "</style>\n",
              "<table border=\"1\" class=\"dataframe\">\n",
              "  <thead>\n",
              "    <tr style=\"text-align: right;\">\n",
              "      <th></th>\n",
              "      <th>acousticness</th>\n",
              "      <th>danceability</th>\n",
              "      <th>energy</th>\n",
              "      <th>loudness</th>\n",
              "      <th>tempo</th>\n",
              "      <th>valence</th>\n",
              "    </tr>\n",
              "  </thead>\n",
              "  <tbody>\n",
              "    <tr>\n",
              "      <th>0</th>\n",
              "      <td>0.42500</td>\n",
              "      <td>0.748</td>\n",
              "      <td>0.679</td>\n",
              "      <td>0.931717</td>\n",
              "      <td>0.872552</td>\n",
              "      <td>0.782</td>\n",
              "    </tr>\n",
              "    <tr>\n",
              "      <th>1</th>\n",
              "      <td>0.20000</td>\n",
              "      <td>0.907</td>\n",
              "      <td>0.610</td>\n",
              "      <td>0.922417</td>\n",
              "      <td>0.230480</td>\n",
              "      <td>0.686</td>\n",
              "    </tr>\n",
              "    <tr>\n",
              "      <th>2</th>\n",
              "      <td>0.25900</td>\n",
              "      <td>0.608</td>\n",
              "      <td>0.757</td>\n",
              "      <td>0.884250</td>\n",
              "      <td>0.471626</td>\n",
              "      <td>0.625</td>\n",
              "    </tr>\n",
              "    <tr>\n",
              "      <th>3</th>\n",
              "      <td>0.20000</td>\n",
              "      <td>0.439</td>\n",
              "      <td>0.672</td>\n",
              "      <td>0.942083</td>\n",
              "      <td>0.838910</td>\n",
              "      <td>0.498</td>\n",
              "    </tr>\n",
              "    <tr>\n",
              "      <th>4</th>\n",
              "      <td>0.62500</td>\n",
              "      <td>0.540</td>\n",
              "      <td>0.909</td>\n",
              "      <td>0.897233</td>\n",
              "      <td>0.477007</td>\n",
              "      <td>0.189</td>\n",
              "    </tr>\n",
              "    <tr>\n",
              "      <th>...</th>\n",
              "      <td>...</td>\n",
              "      <td>...</td>\n",
              "      <td>...</td>\n",
              "      <td>...</td>\n",
              "      <td>...</td>\n",
              "      <td>...</td>\n",
              "    </tr>\n",
              "    <tr>\n",
              "      <th>93</th>\n",
              "      <td>0.34200</td>\n",
              "      <td>0.751</td>\n",
              "      <td>0.669</td>\n",
              "      <td>0.891133</td>\n",
              "      <td>0.430956</td>\n",
              "      <td>0.359</td>\n",
              "    </tr>\n",
              "    <tr>\n",
              "      <th>94</th>\n",
              "      <td>0.20700</td>\n",
              "      <td>0.742</td>\n",
              "      <td>0.404</td>\n",
              "      <td>0.947783</td>\n",
              "      <td>0.584055</td>\n",
              "      <td>0.789</td>\n",
              "    </tr>\n",
              "    <tr>\n",
              "      <th>95</th>\n",
              "      <td>0.00431</td>\n",
              "      <td>0.773</td>\n",
              "      <td>0.625</td>\n",
              "      <td>0.925783</td>\n",
              "      <td>0.519211</td>\n",
              "      <td>0.673</td>\n",
              "    </tr>\n",
              "    <tr>\n",
              "      <th>96</th>\n",
              "      <td>0.13000</td>\n",
              "      <td>0.725</td>\n",
              "      <td>0.543</td>\n",
              "      <td>0.859700</td>\n",
              "      <td>0.197897</td>\n",
              "      <td>0.307</td>\n",
              "    </tr>\n",
              "    <tr>\n",
              "      <th>97</th>\n",
              "      <td>0.12000</td>\n",
              "      <td>0.817</td>\n",
              "      <td>0.800</td>\n",
              "      <td>0.925417</td>\n",
              "      <td>0.198066</td>\n",
              "      <td>0.534</td>\n",
              "    </tr>\n",
              "  </tbody>\n",
              "</table>\n",
              "<p>98 rows × 6 columns</p>\n",
              "</div>\n",
              "      <button class=\"colab-df-convert\" onclick=\"convertToInteractive('df-841b795a-39bf-45fc-a343-b01d499f4187')\"\n",
              "              title=\"Convert this dataframe to an interactive table.\"\n",
              "              style=\"display:none;\">\n",
              "        \n",
              "  <svg xmlns=\"http://www.w3.org/2000/svg\" height=\"24px\"viewBox=\"0 0 24 24\"\n",
              "       width=\"24px\">\n",
              "    <path d=\"M0 0h24v24H0V0z\" fill=\"none\"/>\n",
              "    <path d=\"M18.56 5.44l.94 2.06.94-2.06 2.06-.94-2.06-.94-.94-2.06-.94 2.06-2.06.94zm-11 1L8.5 8.5l.94-2.06 2.06-.94-2.06-.94L8.5 2.5l-.94 2.06-2.06.94zm10 10l.94 2.06.94-2.06 2.06-.94-2.06-.94-.94-2.06-.94 2.06-2.06.94z\"/><path d=\"M17.41 7.96l-1.37-1.37c-.4-.4-.92-.59-1.43-.59-.52 0-1.04.2-1.43.59L10.3 9.45l-7.72 7.72c-.78.78-.78 2.05 0 2.83L4 21.41c.39.39.9.59 1.41.59.51 0 1.02-.2 1.41-.59l7.78-7.78 2.81-2.81c.8-.78.8-2.07 0-2.86zM5.41 20L4 18.59l7.72-7.72 1.47 1.35L5.41 20z\"/>\n",
              "  </svg>\n",
              "      </button>\n",
              "      \n",
              "  <style>\n",
              "    .colab-df-container {\n",
              "      display:flex;\n",
              "      flex-wrap:wrap;\n",
              "      gap: 12px;\n",
              "    }\n",
              "\n",
              "    .colab-df-convert {\n",
              "      background-color: #E8F0FE;\n",
              "      border: none;\n",
              "      border-radius: 50%;\n",
              "      cursor: pointer;\n",
              "      display: none;\n",
              "      fill: #1967D2;\n",
              "      height: 32px;\n",
              "      padding: 0 0 0 0;\n",
              "      width: 32px;\n",
              "    }\n",
              "\n",
              "    .colab-df-convert:hover {\n",
              "      background-color: #E2EBFA;\n",
              "      box-shadow: 0px 1px 2px rgba(60, 64, 67, 0.3), 0px 1px 3px 1px rgba(60, 64, 67, 0.15);\n",
              "      fill: #174EA6;\n",
              "    }\n",
              "\n",
              "    [theme=dark] .colab-df-convert {\n",
              "      background-color: #3B4455;\n",
              "      fill: #D2E3FC;\n",
              "    }\n",
              "\n",
              "    [theme=dark] .colab-df-convert:hover {\n",
              "      background-color: #434B5C;\n",
              "      box-shadow: 0px 1px 3px 1px rgba(0, 0, 0, 0.15);\n",
              "      filter: drop-shadow(0px 1px 2px rgba(0, 0, 0, 0.3));\n",
              "      fill: #FFFFFF;\n",
              "    }\n",
              "  </style>\n",
              "\n",
              "      <script>\n",
              "        const buttonEl =\n",
              "          document.querySelector('#df-841b795a-39bf-45fc-a343-b01d499f4187 button.colab-df-convert');\n",
              "        buttonEl.style.display =\n",
              "          google.colab.kernel.accessAllowed ? 'block' : 'none';\n",
              "\n",
              "        async function convertToInteractive(key) {\n",
              "          const element = document.querySelector('#df-841b795a-39bf-45fc-a343-b01d499f4187');\n",
              "          const dataTable =\n",
              "            await google.colab.kernel.invokeFunction('convertToInteractive',\n",
              "                                                     [key], {});\n",
              "          if (!dataTable) return;\n",
              "\n",
              "          const docLinkHtml = 'Like what you see? Visit the ' +\n",
              "            '<a target=\"_blank\" href=https://colab.research.google.com/notebooks/data_table.ipynb>data table notebook</a>'\n",
              "            + ' to learn more about interactive tables.';\n",
              "          element.innerHTML = '';\n",
              "          dataTable['output_type'] = 'display_data';\n",
              "          await google.colab.output.renderOutput(dataTable, element);\n",
              "          const docLink = document.createElement('div');\n",
              "          docLink.innerHTML = docLinkHtml;\n",
              "          element.appendChild(docLink);\n",
              "        }\n",
              "      </script>\n",
              "    </div>\n",
              "  </div>\n",
              "  "
            ]
          },
          "metadata": {},
          "execution_count": 6
        }
      ],
      "source": [
        "print(features_df.shape)\n",
        "features_df"
      ]
    },
    {
      "cell_type": "code",
      "execution_count": null,
      "id": "9e33ad8a",
      "metadata": {
        "colab": {
          "base_uri": "https://localhost:8080/",
          "height": 80
        },
        "id": "9e33ad8a",
        "outputId": "8dbca9b8-11f2-403d-ebed-43921607b4df"
      },
      "outputs": [
        {
          "output_type": "execute_result",
          "data": {
            "text/plain": [
              "   acousticness  danceability  energy  loudness     tempo  valence\n",
              "1         0.154         0.653   0.667  0.887267  0.311828    0.556"
            ],
            "text/html": [
              "\n",
              "  <div id=\"df-538aa38c-296c-4a7a-8825-5f7eb9b12546\">\n",
              "    <div class=\"colab-df-container\">\n",
              "      <div>\n",
              "<style scoped>\n",
              "    .dataframe tbody tr th:only-of-type {\n",
              "        vertical-align: middle;\n",
              "    }\n",
              "\n",
              "    .dataframe tbody tr th {\n",
              "        vertical-align: top;\n",
              "    }\n",
              "\n",
              "    .dataframe thead th {\n",
              "        text-align: right;\n",
              "    }\n",
              "</style>\n",
              "<table border=\"1\" class=\"dataframe\">\n",
              "  <thead>\n",
              "    <tr style=\"text-align: right;\">\n",
              "      <th></th>\n",
              "      <th>acousticness</th>\n",
              "      <th>danceability</th>\n",
              "      <th>energy</th>\n",
              "      <th>loudness</th>\n",
              "      <th>tempo</th>\n",
              "      <th>valence</th>\n",
              "    </tr>\n",
              "  </thead>\n",
              "  <tbody>\n",
              "    <tr>\n",
              "      <th>1</th>\n",
              "      <td>0.154</td>\n",
              "      <td>0.653</td>\n",
              "      <td>0.667</td>\n",
              "      <td>0.887267</td>\n",
              "      <td>0.311828</td>\n",
              "      <td>0.556</td>\n",
              "    </tr>\n",
              "  </tbody>\n",
              "</table>\n",
              "</div>\n",
              "      <button class=\"colab-df-convert\" onclick=\"convertToInteractive('df-538aa38c-296c-4a7a-8825-5f7eb9b12546')\"\n",
              "              title=\"Convert this dataframe to an interactive table.\"\n",
              "              style=\"display:none;\">\n",
              "        \n",
              "  <svg xmlns=\"http://www.w3.org/2000/svg\" height=\"24px\"viewBox=\"0 0 24 24\"\n",
              "       width=\"24px\">\n",
              "    <path d=\"M0 0h24v24H0V0z\" fill=\"none\"/>\n",
              "    <path d=\"M18.56 5.44l.94 2.06.94-2.06 2.06-.94-2.06-.94-.94-2.06-.94 2.06-2.06.94zm-11 1L8.5 8.5l.94-2.06 2.06-.94-2.06-.94L8.5 2.5l-.94 2.06-2.06.94zm10 10l.94 2.06.94-2.06 2.06-.94-2.06-.94-.94-2.06-.94 2.06-2.06.94z\"/><path d=\"M17.41 7.96l-1.37-1.37c-.4-.4-.92-.59-1.43-.59-.52 0-1.04.2-1.43.59L10.3 9.45l-7.72 7.72c-.78.78-.78 2.05 0 2.83L4 21.41c.39.39.9.59 1.41.59.51 0 1.02-.2 1.41-.59l7.78-7.78 2.81-2.81c.8-.78.8-2.07 0-2.86zM5.41 20L4 18.59l7.72-7.72 1.47 1.35L5.41 20z\"/>\n",
              "  </svg>\n",
              "      </button>\n",
              "      \n",
              "  <style>\n",
              "    .colab-df-container {\n",
              "      display:flex;\n",
              "      flex-wrap:wrap;\n",
              "      gap: 12px;\n",
              "    }\n",
              "\n",
              "    .colab-df-convert {\n",
              "      background-color: #E8F0FE;\n",
              "      border: none;\n",
              "      border-radius: 50%;\n",
              "      cursor: pointer;\n",
              "      display: none;\n",
              "      fill: #1967D2;\n",
              "      height: 32px;\n",
              "      padding: 0 0 0 0;\n",
              "      width: 32px;\n",
              "    }\n",
              "\n",
              "    .colab-df-convert:hover {\n",
              "      background-color: #E2EBFA;\n",
              "      box-shadow: 0px 1px 2px rgba(60, 64, 67, 0.3), 0px 1px 3px 1px rgba(60, 64, 67, 0.15);\n",
              "      fill: #174EA6;\n",
              "    }\n",
              "\n",
              "    [theme=dark] .colab-df-convert {\n",
              "      background-color: #3B4455;\n",
              "      fill: #D2E3FC;\n",
              "    }\n",
              "\n",
              "    [theme=dark] .colab-df-convert:hover {\n",
              "      background-color: #434B5C;\n",
              "      box-shadow: 0px 1px 3px 1px rgba(0, 0, 0, 0.15);\n",
              "      filter: drop-shadow(0px 1px 2px rgba(0, 0, 0, 0.3));\n",
              "      fill: #FFFFFF;\n",
              "    }\n",
              "  </style>\n",
              "\n",
              "      <script>\n",
              "        const buttonEl =\n",
              "          document.querySelector('#df-538aa38c-296c-4a7a-8825-5f7eb9b12546 button.colab-df-convert');\n",
              "        buttonEl.style.display =\n",
              "          google.colab.kernel.accessAllowed ? 'block' : 'none';\n",
              "\n",
              "        async function convertToInteractive(key) {\n",
              "          const element = document.querySelector('#df-538aa38c-296c-4a7a-8825-5f7eb9b12546');\n",
              "          const dataTable =\n",
              "            await google.colab.kernel.invokeFunction('convertToInteractive',\n",
              "                                                     [key], {});\n",
              "          if (!dataTable) return;\n",
              "\n",
              "          const docLinkHtml = 'Like what you see? Visit the ' +\n",
              "            '<a target=\"_blank\" href=https://colab.research.google.com/notebooks/data_table.ipynb>data table notebook</a>'\n",
              "            + ' to learn more about interactive tables.';\n",
              "          element.innerHTML = '';\n",
              "          dataTable['output_type'] = 'display_data';\n",
              "          await google.colab.output.renderOutput(dataTable, element);\n",
              "          const docLink = document.createElement('div');\n",
              "          docLink.innerHTML = docLinkHtml;\n",
              "          element.appendChild(docLink);\n",
              "        }\n",
              "      </script>\n",
              "    </div>\n",
              "  </div>\n",
              "  "
            ]
          },
          "metadata": {},
          "execution_count": 7
        }
      ],
      "source": [
        "track_features_df['loudness'] = (track_features_df['loudness'] - loudness_min) / (loudness_max - loudness_min)\n",
        "track_features_df['tempo'] = (track_features_df['tempo'] - tempo_min) / (tempo_max - tempo_min)\n",
        "track_features_df.shape\n",
        "track_features_df"
      ]
    },
    {
      "cell_type": "markdown",
      "id": "d1fbf56c",
      "metadata": {
        "id": "d1fbf56c"
      },
      "source": [
        "## Identifying optimal clusters for grouping playlist tracks"
      ]
    },
    {
      "cell_type": "code",
      "execution_count": null,
      "id": "fd8b41a0",
      "metadata": {
        "colab": {
          "base_uri": "https://localhost:8080/",
          "height": 295
        },
        "id": "fd8b41a0",
        "outputId": "b7c99041-54e8-4360-cb10-7318760910d7"
      },
      "outputs": [
        {
          "output_type": "display_data",
          "data": {
            "text/plain": [
              "<Figure size 432x288 with 1 Axes>"
            ],
            "image/png": "[encoded data removed]"
          },
          "metadata": {
            "needs_background": "light"
          }
        }
      ],
      "source": [
        "from sklearn.cluster import KMeans\n",
        "\n",
        "inertias = []\n",
        "\n",
        "for i in range(1,11):\n",
        "    kmeans = KMeans(n_clusters=i)\n",
        "    kmeans.fit(features_df)\n",
        "    inertias.append(kmeans.inertia_)\n",
        "\n",
        "plt.plot(range(1,11), inertias, marker='o')\n",
        "plt.title('Elbow method')\n",
        "plt.xlabel('Number of clusters')\n",
        "plt.ylabel('Inertia')\n",
        "plt.show()"
      ]
    },
    {
      "cell_type": "code",
      "execution_count": null,
      "id": "7681ec53",
      "metadata": {
        "colab": {
          "base_uri": "https://localhost:8080/"
        },
        "id": "7681ec53",
        "outputId": "cfa35a18-5275-488a-b276-8565bf2cadc7"
      },
      "outputs": [
        {
          "output_type": "stream",
          "name": "stdout",
          "text": [
            "The selected playlist can be organized into  4  groups.\n"
          ]
        }
      ],
      "source": [
        "from kneed import KneeLocator\n",
        "kl = KneeLocator(range(1,11), inertias, curve=\"convex\", direction=\"decreasing\")\n",
        "k = kl.elbow\n",
        "print(\"The selected playlist can be organized into \",k, \" groups.\")"
      ]
    },
    {
      "cell_type": "code",
      "execution_count": null,
      "id": "0274194f",
      "metadata": {
        "colab": {
          "base_uri": "https://localhost:8080/",
          "height": 419
        },
        "id": "0274194f",
        "outputId": "4ccd87e1-041a-46b6-8141-313375ae6f12"
      },
      "outputs": [
        {
          "output_type": "execute_result",
          "data": {
            "text/plain": [
              "    acousticness  danceability  energy  loudness     tempo  valence  label\n",
              "0        0.42500         0.748   0.679  0.931717  0.872552    0.782      1\n",
              "1        0.20000         0.907   0.610  0.922417  0.230480    0.686      2\n",
              "2        0.25900         0.608   0.757  0.884250  0.471626    0.625      2\n",
              "3        0.20000         0.439   0.672  0.942083  0.838910    0.498      1\n",
              "4        0.62500         0.540   0.909  0.897233  0.477007    0.189      3\n",
              "..           ...           ...     ...       ...       ...      ...    ...\n",
              "93       0.34200         0.751   0.669  0.891133  0.430956    0.359      0\n",
              "94       0.20700         0.742   0.404  0.947783  0.584055    0.789      1\n",
              "95       0.00431         0.773   0.625  0.925783  0.519211    0.673      1\n",
              "96       0.13000         0.725   0.543  0.859700  0.197897    0.307      0\n",
              "97       0.12000         0.817   0.800  0.925417  0.198066    0.534      2\n",
              "\n",
              "[98 rows x 7 columns]"
            ],
            "text/html": [
              "\n",
              "  <div id=\"df-1f32eb25-c27d-45ae-83e4-6a74317a7523\">\n",
              "    <div class=\"colab-df-container\">\n",
              "      <div>\n",
              "<style scoped>\n",
              "    .dataframe tbody tr th:only-of-type {\n",
              "        vertical-align: middle;\n",
              "    }\n",
              "\n",
              "    .dataframe tbody tr th {\n",
              "        vertical-align: top;\n",
              "    }\n",
              "\n",
              "    .dataframe thead th {\n",
              "        text-align: right;\n",
              "    }\n",
              "</style>\n",
              "<table border=\"1\" class=\"dataframe\">\n",
              "  <thead>\n",
              "    <tr style=\"text-align: right;\">\n",
              "      <th></th>\n",
              "      <th>acousticness</th>\n",
              "      <th>danceability</th>\n",
              "      <th>energy</th>\n",
              "      <th>loudness</th>\n",
              "      <th>tempo</th>\n",
              "      <th>valence</th>\n",
              "      <th>label</th>\n",
              "    </tr>\n",
              "  </thead>\n",
              "  <tbody>\n",
              "    <tr>\n",
              "      <th>0</th>\n",
              "      <td>0.42500</td>\n",
              "      <td>0.748</td>\n",
              "      <td>0.679</td>\n",
              "      <td>0.931717</td>\n",
              "      <td>0.872552</td>\n",
              "      <td>0.782</td>\n",
              "      <td>1</td>\n",
              "    </tr>\n",
              "    <tr>\n",
              "      <th>1</th>\n",
              "      <td>0.20000</td>\n",
              "      <td>0.907</td>\n",
              "      <td>0.610</td>\n",
              "      <td>0.922417</td>\n",
              "      <td>0.230480</td>\n",
              "      <td>0.686</td>\n",
              "      <td>2</td>\n",
              "    </tr>\n",
              "    <tr>\n",
              "      <th>2</th>\n",
              "      <td>0.25900</td>\n",
              "      <td>0.608</td>\n",
              "      <td>0.757</td>\n",
              "      <td>0.884250</td>\n",
              "      <td>0.471626</td>\n",
              "      <td>0.625</td>\n",
              "      <td>2</td>\n",
              "    </tr>\n",
              "    <tr>\n",
              "      <th>3</th>\n",
              "      <td>0.20000</td>\n",
              "      <td>0.439</td>\n",
              "      <td>0.672</td>\n",
              "      <td>0.942083</td>\n",
              "      <td>0.838910</td>\n",
              "      <td>0.498</td>\n",
              "      <td>1</td>\n",
              "    </tr>\n",
              "    <tr>\n",
              "      <th>4</th>\n",
              "      <td>0.62500</td>\n",
              "      <td>0.540</td>\n",
              "      <td>0.909</td>\n",
              "      <td>0.897233</td>\n",
              "      <td>0.477007</td>\n",
              "      <td>0.189</td>\n",
              "      <td>3</td>\n",
              "    </tr>\n",
              "    <tr>\n",
              "      <th>...</th>\n",
              "      <td>...</td>\n",
              "      <td>...</td>\n",
              "      <td>...</td>\n",
              "      <td>...</td>\n",
              "      <td>...</td>\n",
              "      <td>...</td>\n",
              "      <td>...</td>\n",
              "    </tr>\n",
              "    <tr>\n",
              "      <th>93</th>\n",
              "      <td>0.34200</td>\n",
              "      <td>0.751</td>\n",
              "      <td>0.669</td>\n",
              "      <td>0.891133</td>\n",
              "      <td>0.430956</td>\n",
              "      <td>0.359</td>\n",
              "      <td>0</td>\n",
              "    </tr>\n",
              "    <tr>\n",
              "      <th>94</th>\n",
              "      <td>0.20700</td>\n",
              "      <td>0.742</td>\n",
              "      <td>0.404</td>\n",
              "      <td>0.947783</td>\n",
              "      <td>0.584055</td>\n",
              "      <td>0.789</td>\n",
              "      <td>1</td>\n",
              "    </tr>\n",
              "    <tr>\n",
              "      <th>95</th>\n",
              "      <td>0.00431</td>\n",
              "      <td>0.773</td>\n",
              "      <td>0.625</td>\n",
              "      <td>0.925783</td>\n",
              "      <td>0.519211</td>\n",
              "      <td>0.673</td>\n",
              "      <td>1</td>\n",
              "    </tr>\n",
              "    <tr>\n",
              "      <th>96</th>\n",
              "      <td>0.13000</td>\n",
              "      <td>0.725</td>\n",
              "      <td>0.543</td>\n",
              "      <td>0.859700</td>\n",
              "      <td>0.197897</td>\n",
              "      <td>0.307</td>\n",
              "      <td>0</td>\n",
              "    </tr>\n",
              "    <tr>\n",
              "      <th>97</th>\n",
              "      <td>0.12000</td>\n",
              "      <td>0.817</td>\n",
              "      <td>0.800</td>\n",
              "      <td>0.925417</td>\n",
              "      <td>0.198066</td>\n",
              "      <td>0.534</td>\n",
              "      <td>2</td>\n",
              "    </tr>\n",
              "  </tbody>\n",
              "</table>\n",
              "<p>98 rows × 7 columns</p>\n",
              "</div>\n",
              "      <button class=\"colab-df-convert\" onclick=\"convertToInteractive('df-1f32eb25-c27d-45ae-83e4-6a74317a7523')\"\n",
              "              title=\"Convert this dataframe to an interactive table.\"\n",
              "              style=\"display:none;\">\n",
              "        \n",
              "  <svg xmlns=\"http://www.w3.org/2000/svg\" height=\"24px\"viewBox=\"0 0 24 24\"\n",
              "       width=\"24px\">\n",
              "    <path d=\"M0 0h24v24H0V0z\" fill=\"none\"/>\n",
              "    <path d=\"M18.56 5.44l.94 2.06.94-2.06 2.06-.94-2.06-.94-.94-2.06-.94 2.06-2.06.94zm-11 1L8.5 8.5l.94-2.06 2.06-.94-2.06-.94L8.5 2.5l-.94 2.06-2.06.94zm10 10l.94 2.06.94-2.06 2.06-.94-2.06-.94-.94-2.06-.94 2.06-2.06.94z\"/><path d=\"M17.41 7.96l-1.37-1.37c-.4-.4-.92-.59-1.43-.59-.52 0-1.04.2-1.43.59L10.3 9.45l-7.72 7.72c-.78.78-.78 2.05 0 2.83L4 21.41c.39.39.9.59 1.41.59.51 0 1.02-.2 1.41-.59l7.78-7.78 2.81-2.81c.8-.78.8-2.07 0-2.86zM5.41 20L4 18.59l7.72-7.72 1.47 1.35L5.41 20z\"/>\n",
              "  </svg>\n",
              "      </button>\n",
              "      \n",
              "  <style>\n",
              "    .colab-df-container {\n",
              "      display:flex;\n",
              "      flex-wrap:wrap;\n",
              "      gap: 12px;\n",
              "    }\n",
              "\n",
              "    .colab-df-convert {\n",
              "      background-color: #E8F0FE;\n",
              "      border: none;\n",
              "      border-radius: 50%;\n",
              "      cursor: pointer;\n",
              "      display: none;\n",
              "      fill: #1967D2;\n",
              "      height: 32px;\n",
              "      padding: 0 0 0 0;\n",
              "      width: 32px;\n",
              "    }\n",
              "\n",
              "    .colab-df-convert:hover {\n",
              "      background-color: #E2EBFA;\n",
              "      box-shadow: 0px 1px 2px rgba(60, 64, 67, 0.3), 0px 1px 3px 1px rgba(60, 64, 67, 0.15);\n",
              "      fill: #174EA6;\n",
              "    }\n",
              "\n",
              "    [theme=dark] .colab-df-convert {\n",
              "      background-color: #3B4455;\n",
              "      fill: #D2E3FC;\n",
              "    }\n",
              "\n",
              "    [theme=dark] .colab-df-convert:hover {\n",
              "      background-color: #434B5C;\n",
              "      box-shadow: 0px 1px 3px 1px rgba(0, 0, 0, 0.15);\n",
              "      filter: drop-shadow(0px 1px 2px rgba(0, 0, 0, 0.3));\n",
              "      fill: #FFFFFF;\n",
              "    }\n",
              "  </style>\n",
              "\n",
              "      <script>\n",
              "        const buttonEl =\n",
              "          document.querySelector('#df-1f32eb25-c27d-45ae-83e4-6a74317a7523 button.colab-df-convert');\n",
              "        buttonEl.style.display =\n",
              "          google.colab.kernel.accessAllowed ? 'block' : 'none';\n",
              "\n",
              "        async function convertToInteractive(key) {\n",
              "          const element = document.querySelector('#df-1f32eb25-c27d-45ae-83e4-6a74317a7523');\n",
              "          const dataTable =\n",
              "            await google.colab.kernel.invokeFunction('convertToInteractive',\n",
              "                                                     [key], {});\n",
              "          if (!dataTable) return;\n",
              "\n",
              "          const docLinkHtml = 'Like what you see? Visit the ' +\n",
              "            '<a target=\"_blank\" href=https://colab.research.google.com/notebooks/data_table.ipynb>data table notebook</a>'\n",
              "            + ' to learn more about interactive tables.';\n",
              "          element.innerHTML = '';\n",
              "          dataTable['output_type'] = 'display_data';\n",
              "          await google.colab.output.renderOutput(dataTable, element);\n",
              "          const docLink = document.createElement('div');\n",
              "          docLink.innerHTML = docLinkHtml;\n",
              "          element.appendChild(docLink);\n",
              "        }\n",
              "      </script>\n",
              "    </div>\n",
              "  </div>\n",
              "  "
            ]
          },
          "metadata": {},
          "execution_count": 10
        }
      ],
      "source": [
        "model = KMeans(n_clusters=k, random_state=999).fit(features_df)\n",
        "labeled_features_df = features_df.assign(label = model.labels_)\n",
        "labeled_features_df"
      ]
    },
    {
      "cell_type": "markdown",
      "id": "44bf956c",
      "metadata": {
        "id": "44bf956c"
      },
      "source": [
        "## Visualizing the Playlist"
      ]
    },
    {
      "cell_type": "code",
      "execution_count": null,
      "id": "fe7afb00",
      "metadata": {
        "colab": {
          "base_uri": "https://localhost:8080/",
          "height": 444
        },
        "id": "fe7afb00",
        "outputId": "e44fd74a-4e6e-4ba0-a440-3e59868a8ee3"
      },
      "outputs": [
        {
          "output_type": "display_data",
          "data": {
            "text/plain": [
              "<Figure size 1440x720 with 1 Axes>"
            ],
            "image/png": "[encoded data removed]"
          },
          "metadata": {}
        }
      ],
      "source": [
        "reducer = umap.UMAP()\n",
        "embedding = reducer.fit_transform(features_df)\n",
        "\n",
        "sns.set(style='white', context='notebook', rc={'figure.figsize':(20,10)})\n",
        "\n",
        "fig, ax = plt.subplots(1,1)\n",
        "for l in np.unique(model.labels_):\n",
        "    ix = np.where(model.labels_ == l)\n",
        "    ax.scatter(\n",
        "        embedding[:, 0][ix],\n",
        "        embedding[:, 1][ix],\n",
        "        label = l+1\n",
        "    )\n",
        "ax.legend()\n",
        "plt.legend(loc = \"upper right\", title = \"Track Groups\")\n",
        "plt.title(\"Visualizing the possible groups in my playlist\")\n",
        "plt.show()"
      ]
    },
    {
      "cell_type": "markdown",
      "id": "b6ebb6a3",
      "metadata": {
        "id": "b6ebb6a3"
      },
      "source": [
        "## Visualizing features of each identified track group"
      ]
    },
    {
      "cell_type": "code",
      "execution_count": null,
      "id": "3445b8bf",
      "metadata": {
        "colab": {
          "base_uri": "https://localhost:8080/",
          "height": 218
        },
        "id": "3445b8bf",
        "outputId": "ce9e9ffe-b1d9-45c5-894e-72ebec031408"
      },
      "outputs": [
        {
          "output_type": "display_data",
          "data": {
            "text/plain": [
              "<Figure size 1080x216 with 4 Axes>"
            ],
            "image/png": "[encoded data removed]"
          },
          "metadata": {}
        }
      ],
      "source": [
        "plt.subplots(nrows = 1, ncols = k, figsize=(15, 3))\n",
        "for l in np.unique(model.labels_):\n",
        "    plt.subplot(1, k, l+1).set_title(\"Track Group \" + str(l+1))\n",
        "    plt.bar(['A', 'D', 'E', 'L', 'T', 'V'], labeled_features_df.query('label == @l').mean().values[:-1], color = 'springgreen')\n",
        "plt.show()"
      ]
    },
    {
      "cell_type": "markdown",
      "id": "f7aec0fe",
      "metadata": {
        "id": "f7aec0fe"
      },
      "source": [
        "## Predicting the group for the selected track"
      ]
    },
    {
      "cell_type": "code",
      "execution_count": null,
      "id": "e86e2fe0",
      "metadata": {
        "colab": {
          "base_uri": "https://localhost:8080/"
        },
        "id": "e86e2fe0",
        "outputId": "f3a88650-7200-41b1-a308-4f03645cf126"
      },
      "outputs": [
        {
          "output_type": "stream",
          "name": "stdout",
          "text": [
            "The song is similar to group:  3\n"
          ]
        }
      ],
      "source": [
        "predicted_Label = model.predict(track_features_df)[0]\n",
        "print(\"The song is similar to group: \", predicted_Label+1)"
      ]
    },
    {
      "cell_type": "markdown",
      "id": "c56f6fc2",
      "metadata": {
        "id": "c56f6fc2"
      },
      "source": [
        "# Predicted Group vs Track - How do they compare?"
      ]
    },
    {
      "cell_type": "code",
      "execution_count": null,
      "id": "82551d1f",
      "metadata": {
        "colab": {
          "base_uri": "https://localhost:8080/",
          "height": 430
        },
        "id": "82551d1f",
        "outputId": "823a9202-1bfc-4042-d2e2-5b70d9a42631"
      },
      "outputs": [
        {
          "output_type": "display_data",
          "data": {
            "text/plain": [
              "<Figure size 1440x720 with 2 Axes>"
            ],
            "image/png": "[encoded data removed]"
          },
          "metadata": {}
        }
      ],
      "source": [
        "plt.subplot(1, 2, 1).set_title(\"Playlist Track Group \" + str(predicted_Label + 1))\n",
        "plt.bar(['A', 'D', 'E', 'L', 'T', 'V'], labeled_features_df.query('label == @predicted_Label').mean().values[:-1], color = 'springgreen')\n",
        "plt.subplot(1, 2, 2).set_title(track_name)\n",
        "plt.bar(['A', 'D', 'E', 'L', 'T', 'V'], track_features_df.values[0], color = 'springgreen')\n",
        "plt.tight_layout()\n",
        "plt.show()"
      ]
    }
  ],
  "metadata": {
    "kernelspec": {
      "display_name": "Python 3 (ipykernel)",
      "language": "python",
      "name": "python3"
    },
    "language_info": {
      "codemirror_mode": {
        "name": "ipython",
        "version": 3
      },
      "file_extension": ".py",
      "mimetype": "text/x-python",
      "name": "python",
      "nbconvert_exporter": "python",
      "pygments_lexer": "ipython3",
      "version": "3.9.12"
    },
    "colab": {
      "provenance": []
    }
  },
  "nbformat": 4,
  "nbformat_minor": 5
}